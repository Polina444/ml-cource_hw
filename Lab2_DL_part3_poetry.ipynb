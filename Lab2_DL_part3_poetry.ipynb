{
  "cells": [
    {
      "cell_type": "markdown",
      "metadata": {
        "id": "view-in-github",
        "colab_type": "text"
      },
      "source": [
        "<a href=\"https://colab.research.google.com/github/Polina444/ml-cource_hw/blob/main/Lab2_DL_part3_poetry.ipynb\" target=\"_parent\"><img src=\"https://colab.research.google.com/assets/colab-badge.svg\" alt=\"Open In Colab\"/></a>"
      ]
    },
    {
      "cell_type": "markdown",
      "metadata": {
        "id": "_MadxUcnMMjX"
      },
      "source": [
        "## Lab 2"
      ]
    },
    {
      "cell_type": "markdown",
      "metadata": {
        "id": "UX8sIsW0MMjY"
      },
      "source": [
        "### Part 3. Poetry generation\n",
        "\n",
        "Let's try to generate some poetry using RNNs.\n",
        "\n",
        "You have several choices here:\n",
        "\n",
        "* The Shakespeare sonnets, file `sonnets.txt` available in the notebook directory.\n",
        "\n",
        "* Роман в стихах \"Евгений Онегин\" Александра Сергеевича Пушкина. В предобработанном виде доступен по [ссылке](https://github.com/attatrol/data_sources/blob/master/onegin.txt).\n",
        "\n",
        "* Some other text source, if it will be approved by the course staff.\n",
        "\n",
        "Text generation can be designed in several steps:\n",
        "    \n",
        "1. Data loading.\n",
        "2. Dictionary generation.\n",
        "3. Data preprocessing.\n",
        "4. Model (neural network) training.\n",
        "5. Text generation (model evaluation).\n"
      ]
    },
    {
      "cell_type": "code",
      "execution_count": 1,
      "metadata": {
        "id": "V922kmgAMMjZ"
      },
      "outputs": [],
      "source": [
        "import string\n",
        "import os\n",
        "\n",
        "from IPython.display import clear_output\n",
        "import matplotlib.pyplot as plt\n",
        "\n",
        "\n",
        "import numpy as np\n",
        "import IPython.display as display\n",
        "from tqdm import tqdm\n",
        "\n",
        "\n",
        "import torch, torch.nn as nn\n",
        "import torch.nn.functional as F\n"
      ]
    },
    {
      "cell_type": "markdown",
      "metadata": {
        "id": "ybEj_GcDMMjZ"
      },
      "source": [
        "### Data loading: Shakespeare"
      ]
    },
    {
      "cell_type": "markdown",
      "metadata": {
        "id": "trpvbcSYMMja"
      },
      "source": [
        "Shakespeare sonnets are awailable at this [link](http://www.gutenberg.org/ebooks/1041?msg=welcome_stranger). In addition, they are stored in the same directory as this notebook (`sonnetes.txt`). Simple preprocessing is already done for you in the next cell: all technical info is dropped."
      ]
    },
    {
      "cell_type": "code",
      "execution_count": 2,
      "metadata": {
        "scrolled": true,
        "id": "IFrAFxRVMMja",
        "colab": {
          "base_uri": "https://localhost:8080/",
          "height": 73
        },
        "outputId": "1925c779-b746-48a1-843a-23505c04d920"
      },
      "outputs": [
        {
          "output_type": "display_data",
          "data": {
            "text/plain": [
              "<IPython.core.display.HTML object>"
            ],
            "text/html": [
              "\n",
              "     <input type=\"file\" id=\"files-98dc3bf5-e24a-4ddf-901f-49d5510e5717\" name=\"files[]\" multiple disabled\n",
              "        style=\"border:none\" />\n",
              "     <output id=\"result-98dc3bf5-e24a-4ddf-901f-49d5510e5717\">\n",
              "      Upload widget is only available when the cell has been executed in the\n",
              "      current browser session. Please rerun this cell to enable.\n",
              "      </output>\n",
              "      <script>// Copyright 2017 Google LLC\n",
              "//\n",
              "// Licensed under the Apache License, Version 2.0 (the \"License\");\n",
              "// you may not use this file except in compliance with the License.\n",
              "// You may obtain a copy of the License at\n",
              "//\n",
              "//      http://www.apache.org/licenses/LICENSE-2.0\n",
              "//\n",
              "// Unless required by applicable law or agreed to in writing, software\n",
              "// distributed under the License is distributed on an \"AS IS\" BASIS,\n",
              "// WITHOUT WARRANTIES OR CONDITIONS OF ANY KIND, either express or implied.\n",
              "// See the License for the specific language governing permissions and\n",
              "// limitations under the License.\n",
              "\n",
              "/**\n",
              " * @fileoverview Helpers for google.colab Python module.\n",
              " */\n",
              "(function(scope) {\n",
              "function span(text, styleAttributes = {}) {\n",
              "  const element = document.createElement('span');\n",
              "  element.textContent = text;\n",
              "  for (const key of Object.keys(styleAttributes)) {\n",
              "    element.style[key] = styleAttributes[key];\n",
              "  }\n",
              "  return element;\n",
              "}\n",
              "\n",
              "// Max number of bytes which will be uploaded at a time.\n",
              "const MAX_PAYLOAD_SIZE = 100 * 1024;\n",
              "\n",
              "function _uploadFiles(inputId, outputId) {\n",
              "  const steps = uploadFilesStep(inputId, outputId);\n",
              "  const outputElement = document.getElementById(outputId);\n",
              "  // Cache steps on the outputElement to make it available for the next call\n",
              "  // to uploadFilesContinue from Python.\n",
              "  outputElement.steps = steps;\n",
              "\n",
              "  return _uploadFilesContinue(outputId);\n",
              "}\n",
              "\n",
              "// This is roughly an async generator (not supported in the browser yet),\n",
              "// where there are multiple asynchronous steps and the Python side is going\n",
              "// to poll for completion of each step.\n",
              "// This uses a Promise to block the python side on completion of each step,\n",
              "// then passes the result of the previous step as the input to the next step.\n",
              "function _uploadFilesContinue(outputId) {\n",
              "  const outputElement = document.getElementById(outputId);\n",
              "  const steps = outputElement.steps;\n",
              "\n",
              "  const next = steps.next(outputElement.lastPromiseValue);\n",
              "  return Promise.resolve(next.value.promise).then((value) => {\n",
              "    // Cache the last promise value to make it available to the next\n",
              "    // step of the generator.\n",
              "    outputElement.lastPromiseValue = value;\n",
              "    return next.value.response;\n",
              "  });\n",
              "}\n",
              "\n",
              "/**\n",
              " * Generator function which is called between each async step of the upload\n",
              " * process.\n",
              " * @param {string} inputId Element ID of the input file picker element.\n",
              " * @param {string} outputId Element ID of the output display.\n",
              " * @return {!Iterable<!Object>} Iterable of next steps.\n",
              " */\n",
              "function* uploadFilesStep(inputId, outputId) {\n",
              "  const inputElement = document.getElementById(inputId);\n",
              "  inputElement.disabled = false;\n",
              "\n",
              "  const outputElement = document.getElementById(outputId);\n",
              "  outputElement.innerHTML = '';\n",
              "\n",
              "  const pickedPromise = new Promise((resolve) => {\n",
              "    inputElement.addEventListener('change', (e) => {\n",
              "      resolve(e.target.files);\n",
              "    });\n",
              "  });\n",
              "\n",
              "  const cancel = document.createElement('button');\n",
              "  inputElement.parentElement.appendChild(cancel);\n",
              "  cancel.textContent = 'Cancel upload';\n",
              "  const cancelPromise = new Promise((resolve) => {\n",
              "    cancel.onclick = () => {\n",
              "      resolve(null);\n",
              "    };\n",
              "  });\n",
              "\n",
              "  // Wait for the user to pick the files.\n",
              "  const files = yield {\n",
              "    promise: Promise.race([pickedPromise, cancelPromise]),\n",
              "    response: {\n",
              "      action: 'starting',\n",
              "    }\n",
              "  };\n",
              "\n",
              "  cancel.remove();\n",
              "\n",
              "  // Disable the input element since further picks are not allowed.\n",
              "  inputElement.disabled = true;\n",
              "\n",
              "  if (!files) {\n",
              "    return {\n",
              "      response: {\n",
              "        action: 'complete',\n",
              "      }\n",
              "    };\n",
              "  }\n",
              "\n",
              "  for (const file of files) {\n",
              "    const li = document.createElement('li');\n",
              "    li.append(span(file.name, {fontWeight: 'bold'}));\n",
              "    li.append(span(\n",
              "        `(${file.type || 'n/a'}) - ${file.size} bytes, ` +\n",
              "        `last modified: ${\n",
              "            file.lastModifiedDate ? file.lastModifiedDate.toLocaleDateString() :\n",
              "                                    'n/a'} - `));\n",
              "    const percent = span('0% done');\n",
              "    li.appendChild(percent);\n",
              "\n",
              "    outputElement.appendChild(li);\n",
              "\n",
              "    const fileDataPromise = new Promise((resolve) => {\n",
              "      const reader = new FileReader();\n",
              "      reader.onload = (e) => {\n",
              "        resolve(e.target.result);\n",
              "      };\n",
              "      reader.readAsArrayBuffer(file);\n",
              "    });\n",
              "    // Wait for the data to be ready.\n",
              "    let fileData = yield {\n",
              "      promise: fileDataPromise,\n",
              "      response: {\n",
              "        action: 'continue',\n",
              "      }\n",
              "    };\n",
              "\n",
              "    // Use a chunked sending to avoid message size limits. See b/62115660.\n",
              "    let position = 0;\n",
              "    do {\n",
              "      const length = Math.min(fileData.byteLength - position, MAX_PAYLOAD_SIZE);\n",
              "      const chunk = new Uint8Array(fileData, position, length);\n",
              "      position += length;\n",
              "\n",
              "      const base64 = btoa(String.fromCharCode.apply(null, chunk));\n",
              "      yield {\n",
              "        response: {\n",
              "          action: 'append',\n",
              "          file: file.name,\n",
              "          data: base64,\n",
              "        },\n",
              "      };\n",
              "\n",
              "      let percentDone = fileData.byteLength === 0 ?\n",
              "          100 :\n",
              "          Math.round((position / fileData.byteLength) * 100);\n",
              "      percent.textContent = `${percentDone}% done`;\n",
              "\n",
              "    } while (position < fileData.byteLength);\n",
              "  }\n",
              "\n",
              "  // All done.\n",
              "  yield {\n",
              "    response: {\n",
              "      action: 'complete',\n",
              "    }\n",
              "  };\n",
              "}\n",
              "\n",
              "scope.google = scope.google || {};\n",
              "scope.google.colab = scope.google.colab || {};\n",
              "scope.google.colab._files = {\n",
              "  _uploadFiles,\n",
              "  _uploadFilesContinue,\n",
              "};\n",
              "})(self);\n",
              "</script> "
            ]
          },
          "metadata": {}
        },
        {
          "output_type": "stream",
          "name": "stdout",
          "text": [
            "Saving sonnets.txt to sonnets.txt\n"
          ]
        }
      ],
      "source": [
        "#if not os.path.exists('sonnets.txt'):\n",
        "    #!wget https://raw.githubusercontent.com/girafe-ai/ml-course/22f_basic/homeworks_basic/lab02_deep_learning/sonnets.txt\n",
        "\n",
        "#with open('/home/polina/Загрузки/sonnets.txt', 'r') as iofile:\n",
        "    #text = iofile.readlines()\n",
        "\n",
        "from google.colab import files\n",
        "\n",
        "uploaded = files.upload()\n",
        "\n",
        "filename = next(iter(uploaded))\n",
        "with open(filename, 'r') as file:\n",
        "    text = file.readlines()\n",
        "\n",
        "\n",
        "TEXT_START = 45\n",
        "TEXT_END = -368\n",
        "text = text[TEXT_START : TEXT_END]\n",
        "assert len(text) == 2616"
      ]
    },
    {
      "cell_type": "markdown",
      "metadata": {
        "id": "xEi0qfCHMMja"
      },
      "source": [
        "In opposite to the in-class practice, this time we want to predict complex text. Let's reduce the complexity of the task and lowercase all the symbols.\n",
        "\n",
        "Now variable `text` is a list of strings. Join all the strings into one and lowercase it."
      ]
    },
    {
      "cell_type": "code",
      "execution_count": null,
      "metadata": {
        "id": "_EGBMhkdMMja",
        "outputId": "c866eaa9-892e-42d5-9c38-0779cbd83c98",
        "colab": {
          "base_uri": "https://localhost:8080/"
        }
      },
      "outputs": [
        {
          "output_type": "stream",
          "name": "stdout",
          "text": [
            "OK!\n"
          ]
        }
      ],
      "source": [
        "# Join all the strings into one and lowercase it\n",
        "# Put result into variable text.\n",
        "\n",
        "# Your great code here\n",
        "#text = ''.join(text).lower()\n",
        "#assert len(text) == 100225, 'Are you sure you have concatenated all the strings?'\n",
        "#assert not any([x in set(text) for x in string.ascii_uppercase]), 'Uppercase letters are present'\n",
        "#print('OK!')"
      ]
    },
    {
      "cell_type": "markdown",
      "metadata": {
        "id": "jhgSWgFeMMja"
      },
      "source": [
        "### Data loading: \"Евгений Онегин\"\n"
      ]
    },
    {
      "cell_type": "code",
      "execution_count": null,
      "metadata": {
        "colab": {
          "base_uri": "https://localhost:8080/"
        },
        "id": "1-HkAc-qMMjb",
        "outputId": "1e1bad60-6e00-46a7-803a-cf4cc82c1d7e"
      },
      "outputs": [
        {
          "output_type": "stream",
          "name": "stdout",
          "text": [
            "--2023-12-23 15:24:19--  https://raw.githubusercontent.com/attatrol/data_sources/master/onegin.txt\n",
            "Resolving raw.githubusercontent.com (raw.githubusercontent.com)... 185.199.108.133, 185.199.109.133, 185.199.110.133, ...\n",
            "Connecting to raw.githubusercontent.com (raw.githubusercontent.com)|185.199.108.133|:443... connected.\n",
            "HTTP request sent, awaiting response... 200 OK\n",
            "Length: 262521 (256K) [text/plain]\n",
            "Saving to: ‘onegin.txt’\n",
            "\n",
            "\ronegin.txt            0%[                    ]       0  --.-KB/s               \ronegin.txt          100%[===================>] 256.37K  --.-KB/s    in 0.03s   \n",
            "\n",
            "2023-12-23 15:24:19 (7.78 MB/s) - ‘onegin.txt’ saved [262521/262521]\n",
            "\n"
          ]
        }
      ],
      "source": [
        "#!wget https://raw.githubusercontent.com/attatrol/data_sources/master/onegin.txt\n",
        "\n",
        "#with open('onegin.txt', 'r') as iofile:\n",
        "    #text = iofile.readlines()\n",
        "\n",
        "#text = [x.replace('\\t\\t', '') for x in text]\n",
        "#text = ''.join(text).lower()\n",
        "#print(text[0:500])\n",
        "!wget https://raw.githubusercontent.com/attatrol/data_sources/master/onegin.txt\n",
        "\n",
        "with open('onegin.txt', 'r') as iofile:\n",
        "    text = iofile.readlines()\n",
        "\n",
        "text = [x.replace('\\t\\t', '') for x in text]\n"
      ]
    },
    {
      "cell_type": "code",
      "source": [
        "text[0:50]"
      ],
      "metadata": {
        "id": "QQUh6ooiSUXz",
        "colab": {
          "base_uri": "https://localhost:8080/"
        },
        "outputId": "50550307-1d08-421b-9781-4db6976387a1"
      },
      "execution_count": 3,
      "outputs": [
        {
          "output_type": "execute_result",
          "data": {
            "text/plain": [
              "['  From fairest creatures we desire increase,\\n',\n",
              " \"  That thereby beauty's rose might never die,\\n\",\n",
              " '  But as the riper should by time decease,\\n',\n",
              " '  His tender heir might bear his memory:\\n',\n",
              " '  But thou, contracted to thine own bright eyes,\\n',\n",
              " \"  Feed'st thy light's flame with self-substantial fuel,\\n\",\n",
              " '  Making a famine where abundance lies,\\n',\n",
              " '  Thy self thy foe, to thy sweet self too cruel:\\n',\n",
              " \"  Thou that art now the world's fresh ornament,\\n\",\n",
              " '  And only herald to the gaudy spring,\\n',\n",
              " '  Within thine own bud buriest thy content,\\n',\n",
              " \"  And tender churl mak'st waste in niggarding:\\n\",\n",
              " '    Pity the world, or else this glutton be,\\n',\n",
              " \"    To eat the world's due, by the grave and thee.\\n\",\n",
              " '\\n',\n",
              " '  II\\n',\n",
              " '\\n',\n",
              " '  When forty winters shall besiege thy brow,\\n',\n",
              " \"  And dig deep trenches in thy beauty's field,\\n\",\n",
              " \"  Thy youth's proud livery so gazed on now,\\n\",\n",
              " \"  Will be a tatter'd weed of small worth held:\\n\",\n",
              " '  Then being asked, where all thy beauty lies,\\n',\n",
              " '  Where all the treasure of thy lusty days;\\n',\n",
              " '  To say, within thine own deep sunken eyes,\\n',\n",
              " '  Were an all-eating shame, and thriftless praise.\\n',\n",
              " \"  How much more praise deserv'd thy beauty's use,\\n\",\n",
              " \"  If thou couldst answer 'This fair child of mine\\n\",\n",
              " \"  Shall sum my count, and make my old excuse,'\\n\",\n",
              " '  Proving his beauty by succession thine!\\n',\n",
              " '    This were to be new made when thou art old,\\n',\n",
              " \"    And see thy blood warm when thou feel'st it cold.\\n\",\n",
              " '\\n',\n",
              " '  III\\n',\n",
              " '\\n',\n",
              " '  Look in thy glass and tell the face thou viewest\\n',\n",
              " '  Now is the time that face should form another;\\n',\n",
              " '  Whose fresh repair if now thou not renewest,\\n',\n",
              " '  Thou dost beguile the world, unbless some mother.\\n',\n",
              " \"  For where is she so fair whose unear'd womb\\n\",\n",
              " '  Disdains the tillage of thy husbandry?\\n',\n",
              " '  Or who is he so fond will be the tomb,\\n',\n",
              " '  Of his self-love to stop posterity?\\n',\n",
              " \"  Thou art thy mother's glass and she in thee\\n\",\n",
              " '  Calls back the lovely April of her prime;\\n',\n",
              " '  So thou through windows of thine age shalt see,\\n',\n",
              " '  Despite of wrinkles this thy golden time.\\n',\n",
              " \"    But if thou live, remember'd not to be,\\n\",\n",
              " '    Die single and thine image dies with thee.\\n',\n",
              " '\\n',\n",
              " '  IV\\n']"
            ]
          },
          "metadata": {},
          "execution_count": 3
        }
      ]
    },
    {
      "cell_type": "code",
      "source": [
        "text = [line for line in text if line != '\\n']"
      ],
      "metadata": {
        "id": "m5DBaBbHSYBn"
      },
      "execution_count": 4,
      "outputs": []
    },
    {
      "cell_type": "code",
      "source": [
        "text[0:50]"
      ],
      "metadata": {
        "colab": {
          "base_uri": "https://localhost:8080/"
        },
        "id": "uqU0IX7qRK2p",
        "outputId": "2c666c26-dafc-4e38-85ee-8ce2eb6ae0a9"
      },
      "execution_count": 5,
      "outputs": [
        {
          "output_type": "execute_result",
          "data": {
            "text/plain": [
              "['  From fairest creatures we desire increase,\\n',\n",
              " \"  That thereby beauty's rose might never die,\\n\",\n",
              " '  But as the riper should by time decease,\\n',\n",
              " '  His tender heir might bear his memory:\\n',\n",
              " '  But thou, contracted to thine own bright eyes,\\n',\n",
              " \"  Feed'st thy light's flame with self-substantial fuel,\\n\",\n",
              " '  Making a famine where abundance lies,\\n',\n",
              " '  Thy self thy foe, to thy sweet self too cruel:\\n',\n",
              " \"  Thou that art now the world's fresh ornament,\\n\",\n",
              " '  And only herald to the gaudy spring,\\n',\n",
              " '  Within thine own bud buriest thy content,\\n',\n",
              " \"  And tender churl mak'st waste in niggarding:\\n\",\n",
              " '    Pity the world, or else this glutton be,\\n',\n",
              " \"    To eat the world's due, by the grave and thee.\\n\",\n",
              " '  II\\n',\n",
              " '  When forty winters shall besiege thy brow,\\n',\n",
              " \"  And dig deep trenches in thy beauty's field,\\n\",\n",
              " \"  Thy youth's proud livery so gazed on now,\\n\",\n",
              " \"  Will be a tatter'd weed of small worth held:\\n\",\n",
              " '  Then being asked, where all thy beauty lies,\\n',\n",
              " '  Where all the treasure of thy lusty days;\\n',\n",
              " '  To say, within thine own deep sunken eyes,\\n',\n",
              " '  Were an all-eating shame, and thriftless praise.\\n',\n",
              " \"  How much more praise deserv'd thy beauty's use,\\n\",\n",
              " \"  If thou couldst answer 'This fair child of mine\\n\",\n",
              " \"  Shall sum my count, and make my old excuse,'\\n\",\n",
              " '  Proving his beauty by succession thine!\\n',\n",
              " '    This were to be new made when thou art old,\\n',\n",
              " \"    And see thy blood warm when thou feel'st it cold.\\n\",\n",
              " '  III\\n',\n",
              " '  Look in thy glass and tell the face thou viewest\\n',\n",
              " '  Now is the time that face should form another;\\n',\n",
              " '  Whose fresh repair if now thou not renewest,\\n',\n",
              " '  Thou dost beguile the world, unbless some mother.\\n',\n",
              " \"  For where is she so fair whose unear'd womb\\n\",\n",
              " '  Disdains the tillage of thy husbandry?\\n',\n",
              " '  Or who is he so fond will be the tomb,\\n',\n",
              " '  Of his self-love to stop posterity?\\n',\n",
              " \"  Thou art thy mother's glass and she in thee\\n\",\n",
              " '  Calls back the lovely April of her prime;\\n',\n",
              " '  So thou through windows of thine age shalt see,\\n',\n",
              " '  Despite of wrinkles this thy golden time.\\n',\n",
              " \"    But if thou live, remember'd not to be,\\n\",\n",
              " '    Die single and thine image dies with thee.\\n',\n",
              " '  IV\\n',\n",
              " '  Unthrifty loveliness, why dost thou spend\\n',\n",
              " \"  Upon thy self thy beauty's legacy?\\n\",\n",
              " \"  Nature's bequest gives nothing, but doth lend,\\n\",\n",
              " '  And being frank she lends to those are free:\\n',\n",
              " '  Then, beauteous niggard, why dost thou abuse\\n']"
            ]
          },
          "metadata": {},
          "execution_count": 5
        }
      ]
    },
    {
      "cell_type": "code",
      "source": [
        "import re\n",
        "\n",
        "text = [line for line in text if not re.match(r'^[IVXLCDM]+$', line)]\n",
        "text = [re.sub(r'[\"\\’«…:»\\u2014\\u2013]', '', line) for line in text]"
      ],
      "metadata": {
        "id": "po9DaD9FRYjZ"
      },
      "execution_count": 6,
      "outputs": []
    },
    {
      "cell_type": "code",
      "source": [
        "text[0:50]"
      ],
      "metadata": {
        "colab": {
          "base_uri": "https://localhost:8080/"
        },
        "id": "WrplyRlCRaIU",
        "outputId": "3b855e3d-51a3-40cc-c637-7345fa647aa6"
      },
      "execution_count": 7,
      "outputs": [
        {
          "output_type": "execute_result",
          "data": {
            "text/plain": [
              "['  From fairest creatures we desire increase,\\n',\n",
              " \"  That thereby beauty's rose might never die,\\n\",\n",
              " '  But as the riper should by time decease,\\n',\n",
              " '  His tender heir might bear his memory\\n',\n",
              " '  But thou, contracted to thine own bright eyes,\\n',\n",
              " \"  Feed'st thy light's flame with self-substantial fuel,\\n\",\n",
              " '  Making a famine where abundance lies,\\n',\n",
              " '  Thy self thy foe, to thy sweet self too cruel\\n',\n",
              " \"  Thou that art now the world's fresh ornament,\\n\",\n",
              " '  And only herald to the gaudy spring,\\n',\n",
              " '  Within thine own bud buriest thy content,\\n',\n",
              " \"  And tender churl mak'st waste in niggarding\\n\",\n",
              " '    Pity the world, or else this glutton be,\\n',\n",
              " \"    To eat the world's due, by the grave and thee.\\n\",\n",
              " '  II\\n',\n",
              " '  When forty winters shall besiege thy brow,\\n',\n",
              " \"  And dig deep trenches in thy beauty's field,\\n\",\n",
              " \"  Thy youth's proud livery so gazed on now,\\n\",\n",
              " \"  Will be a tatter'd weed of small worth held\\n\",\n",
              " '  Then being asked, where all thy beauty lies,\\n',\n",
              " '  Where all the treasure of thy lusty days;\\n',\n",
              " '  To say, within thine own deep sunken eyes,\\n',\n",
              " '  Were an all-eating shame, and thriftless praise.\\n',\n",
              " \"  How much more praise deserv'd thy beauty's use,\\n\",\n",
              " \"  If thou couldst answer 'This fair child of mine\\n\",\n",
              " \"  Shall sum my count, and make my old excuse,'\\n\",\n",
              " '  Proving his beauty by succession thine!\\n',\n",
              " '    This were to be new made when thou art old,\\n',\n",
              " \"    And see thy blood warm when thou feel'st it cold.\\n\",\n",
              " '  III\\n',\n",
              " '  Look in thy glass and tell the face thou viewest\\n',\n",
              " '  Now is the time that face should form another;\\n',\n",
              " '  Whose fresh repair if now thou not renewest,\\n',\n",
              " '  Thou dost beguile the world, unbless some mother.\\n',\n",
              " \"  For where is she so fair whose unear'd womb\\n\",\n",
              " '  Disdains the tillage of thy husbandry?\\n',\n",
              " '  Or who is he so fond will be the tomb,\\n',\n",
              " '  Of his self-love to stop posterity?\\n',\n",
              " \"  Thou art thy mother's glass and she in thee\\n\",\n",
              " '  Calls back the lovely April of her prime;\\n',\n",
              " '  So thou through windows of thine age shalt see,\\n',\n",
              " '  Despite of wrinkles this thy golden time.\\n',\n",
              " \"    But if thou live, remember'd not to be,\\n\",\n",
              " '    Die single and thine image dies with thee.\\n',\n",
              " '  IV\\n',\n",
              " '  Unthrifty loveliness, why dost thou spend\\n',\n",
              " \"  Upon thy self thy beauty's legacy?\\n\",\n",
              " \"  Nature's bequest gives nothing, but doth lend,\\n\",\n",
              " '  And being frank she lends to those are free\\n',\n",
              " '  Then, beauteous niggard, why dost thou abuse\\n']"
            ]
          },
          "metadata": {},
          "execution_count": 7
        }
      ]
    },
    {
      "cell_type": "code",
      "source": [
        "text = [line.lower() for line in text]\n",
        "text = [x.strip() + \"\\n\" for x in text]\n",
        "text = [x for x in text if len(x) >= 30]"
      ],
      "metadata": {
        "id": "i1CqQBm3SAAn"
      },
      "execution_count": 8,
      "outputs": []
    },
    {
      "cell_type": "code",
      "source": [
        "text[0:50]"
      ],
      "metadata": {
        "colab": {
          "base_uri": "https://localhost:8080/"
        },
        "id": "a9I8Ha01SBw-",
        "outputId": "0ecc486b-d609-4a85-8715-300d81fb5cab"
      },
      "execution_count": 9,
      "outputs": [
        {
          "output_type": "execute_result",
          "data": {
            "text/plain": [
              "['from fairest creatures we desire increase,\\n',\n",
              " \"that thereby beauty's rose might never die,\\n\",\n",
              " 'but as the riper should by time decease,\\n',\n",
              " 'his tender heir might bear his memory\\n',\n",
              " 'but thou, contracted to thine own bright eyes,\\n',\n",
              " \"feed'st thy light's flame with self-substantial fuel,\\n\",\n",
              " 'making a famine where abundance lies,\\n',\n",
              " 'thy self thy foe, to thy sweet self too cruel\\n',\n",
              " \"thou that art now the world's fresh ornament,\\n\",\n",
              " 'and only herald to the gaudy spring,\\n',\n",
              " 'within thine own bud buriest thy content,\\n',\n",
              " \"and tender churl mak'st waste in niggarding\\n\",\n",
              " 'pity the world, or else this glutton be,\\n',\n",
              " \"to eat the world's due, by the grave and thee.\\n\",\n",
              " 'when forty winters shall besiege thy brow,\\n',\n",
              " \"and dig deep trenches in thy beauty's field,\\n\",\n",
              " \"thy youth's proud livery so gazed on now,\\n\",\n",
              " \"will be a tatter'd weed of small worth held\\n\",\n",
              " 'then being asked, where all thy beauty lies,\\n',\n",
              " 'where all the treasure of thy lusty days;\\n',\n",
              " 'to say, within thine own deep sunken eyes,\\n',\n",
              " 'were an all-eating shame, and thriftless praise.\\n',\n",
              " \"how much more praise deserv'd thy beauty's use,\\n\",\n",
              " \"if thou couldst answer 'this fair child of mine\\n\",\n",
              " \"shall sum my count, and make my old excuse,'\\n\",\n",
              " 'proving his beauty by succession thine!\\n',\n",
              " 'this were to be new made when thou art old,\\n',\n",
              " \"and see thy blood warm when thou feel'st it cold.\\n\",\n",
              " 'look in thy glass and tell the face thou viewest\\n',\n",
              " 'now is the time that face should form another;\\n',\n",
              " 'whose fresh repair if now thou not renewest,\\n',\n",
              " 'thou dost beguile the world, unbless some mother.\\n',\n",
              " \"for where is she so fair whose unear'd womb\\n\",\n",
              " 'disdains the tillage of thy husbandry?\\n',\n",
              " 'or who is he so fond will be the tomb,\\n',\n",
              " 'of his self-love to stop posterity?\\n',\n",
              " \"thou art thy mother's glass and she in thee\\n\",\n",
              " 'calls back the lovely april of her prime;\\n',\n",
              " 'so thou through windows of thine age shalt see,\\n',\n",
              " 'despite of wrinkles this thy golden time.\\n',\n",
              " \"but if thou live, remember'd not to be,\\n\",\n",
              " 'die single and thine image dies with thee.\\n',\n",
              " 'unthrifty loveliness, why dost thou spend\\n',\n",
              " \"upon thy self thy beauty's legacy?\\n\",\n",
              " \"nature's bequest gives nothing, but doth lend,\\n\",\n",
              " 'and being frank she lends to those are free\\n',\n",
              " 'then, beauteous niggard, why dost thou abuse\\n',\n",
              " 'the bounteous largess given thee to give?\\n',\n",
              " 'profitless usurer, why dost thou use\\n',\n",
              " 'so great a sum of sums, yet canst not live?\\n']"
            ]
          },
          "metadata": {},
          "execution_count": 9
        }
      ]
    },
    {
      "cell_type": "code",
      "source": [
        "translator = str.maketrans('', '', string.punctuation)\n",
        "text= [line.translate(translator) for line in text]"
      ],
      "metadata": {
        "id": "IvqMQ10-SVvE"
      },
      "execution_count": 10,
      "outputs": []
    },
    {
      "cell_type": "code",
      "source": [
        "text[0:50]"
      ],
      "metadata": {
        "colab": {
          "base_uri": "https://localhost:8080/"
        },
        "id": "bCWNZ-M0SYUE",
        "outputId": "8d41b872-58c0-45c8-ac51-fcf9633b4cab"
      },
      "execution_count": 11,
      "outputs": [
        {
          "output_type": "execute_result",
          "data": {
            "text/plain": [
              "['from fairest creatures we desire increase\\n',\n",
              " 'that thereby beautys rose might never die\\n',\n",
              " 'but as the riper should by time decease\\n',\n",
              " 'his tender heir might bear his memory\\n',\n",
              " 'but thou contracted to thine own bright eyes\\n',\n",
              " 'feedst thy lights flame with selfsubstantial fuel\\n',\n",
              " 'making a famine where abundance lies\\n',\n",
              " 'thy self thy foe to thy sweet self too cruel\\n',\n",
              " 'thou that art now the worlds fresh ornament\\n',\n",
              " 'and only herald to the gaudy spring\\n',\n",
              " 'within thine own bud buriest thy content\\n',\n",
              " 'and tender churl makst waste in niggarding\\n',\n",
              " 'pity the world or else this glutton be\\n',\n",
              " 'to eat the worlds due by the grave and thee\\n',\n",
              " 'when forty winters shall besiege thy brow\\n',\n",
              " 'and dig deep trenches in thy beautys field\\n',\n",
              " 'thy youths proud livery so gazed on now\\n',\n",
              " 'will be a tatterd weed of small worth held\\n',\n",
              " 'then being asked where all thy beauty lies\\n',\n",
              " 'where all the treasure of thy lusty days\\n',\n",
              " 'to say within thine own deep sunken eyes\\n',\n",
              " 'were an alleating shame and thriftless praise\\n',\n",
              " 'how much more praise deservd thy beautys use\\n',\n",
              " 'if thou couldst answer this fair child of mine\\n',\n",
              " 'shall sum my count and make my old excuse\\n',\n",
              " 'proving his beauty by succession thine\\n',\n",
              " 'this were to be new made when thou art old\\n',\n",
              " 'and see thy blood warm when thou feelst it cold\\n',\n",
              " 'look in thy glass and tell the face thou viewest\\n',\n",
              " 'now is the time that face should form another\\n',\n",
              " 'whose fresh repair if now thou not renewest\\n',\n",
              " 'thou dost beguile the world unbless some mother\\n',\n",
              " 'for where is she so fair whose uneard womb\\n',\n",
              " 'disdains the tillage of thy husbandry\\n',\n",
              " 'or who is he so fond will be the tomb\\n',\n",
              " 'of his selflove to stop posterity\\n',\n",
              " 'thou art thy mothers glass and she in thee\\n',\n",
              " 'calls back the lovely april of her prime\\n',\n",
              " 'so thou through windows of thine age shalt see\\n',\n",
              " 'despite of wrinkles this thy golden time\\n',\n",
              " 'but if thou live rememberd not to be\\n',\n",
              " 'die single and thine image dies with thee\\n',\n",
              " 'unthrifty loveliness why dost thou spend\\n',\n",
              " 'upon thy self thy beautys legacy\\n',\n",
              " 'natures bequest gives nothing but doth lend\\n',\n",
              " 'and being frank she lends to those are free\\n',\n",
              " 'then beauteous niggard why dost thou abuse\\n',\n",
              " 'the bounteous largess given thee to give\\n',\n",
              " 'profitless usurer why dost thou use\\n',\n",
              " 'so great a sum of sums yet canst not live\\n']"
            ]
          },
          "metadata": {},
          "execution_count": 11
        }
      ]
    },
    {
      "cell_type": "code",
      "source": [
        "def process_batch(batch):\n",
        "    len_set = set(len(s) for s in batch)\n",
        "    if len(len_set) > 1:\n",
        "        flag = True\n",
        "    else:\n",
        "        flag = False\n",
        "\n",
        "    combined_string = ''.join(batch)\n",
        "\n",
        "    total_chars = len(combined_string)\n",
        "    num_strings = len(batch)\n",
        "    avg_len = total_chars // num_strings\n",
        "    remainder = total_chars % num_strings\n",
        "    if remainder > 0:\n",
        "        avg_len += 1\n",
        "\n",
        "    batch = [combined_string[i:i+avg_len] for i in range(0, total_chars, avg_len)]\n",
        "\n",
        "    return batch"
      ],
      "metadata": {
        "id": "pF-2wiWBbdGA"
      },
      "execution_count": 12,
      "outputs": []
    },
    {
      "cell_type": "code",
      "source": [
        "test= ['аfj,dfgb,sjhgr','hdfsh','dh,f,s']\n",
        "\n",
        "test= process_batch(test)\n",
        "print(test)\n"
      ],
      "metadata": {
        "colab": {
          "base_uri": "https://localhost:8080/"
        },
        "id": "p878pxeFb-TP",
        "outputId": "8dc10745-050b-498f-de44-6739a8cca724"
      },
      "execution_count": 13,
      "outputs": [
        {
          "output_type": "stream",
          "name": "stdout",
          "text": [
            "['аfj,dfgb,', 'sjhgrhdfs', 'hdh,f,s']\n"
          ]
        }
      ]
    },
    {
      "cell_type": "markdown",
      "metadata": {
        "id": "wKi2W_nOMMjb"
      },
      "source": [
        "In opposite to the in-class practice, this time we want to predict complex text. Let's reduce the complexity of the task and lowercase all the symbols.\n",
        "\n",
        "Now variable `text` is a list of strings. Join all the strings into one and lowercase it."
      ]
    },
    {
      "cell_type": "code",
      "execution_count": null,
      "metadata": {
        "id": "lfnowZ0VMMjb"
      },
      "outputs": [],
      "source": [
        "# Join all the strings into one and lowercase it\n",
        "# Put result into variable text.\n",
        "\n",
        "# Your great code here\n",
        "#text = \" \".join(line.lower() for line in text)"
      ]
    },
    {
      "cell_type": "markdown",
      "metadata": {
        "id": "G9x1cNNfMMjb"
      },
      "source": [
        "Put all the characters, that you've seen in the text, into variable `tokens`."
      ]
    },
    {
      "cell_type": "code",
      "execution_count": 14,
      "metadata": {
        "id": "9UMXGFXoMMjb",
        "colab": {
          "base_uri": "https://localhost:8080/"
        },
        "outputId": "69f477cc-84d5-4ed3-ffbc-29384989c669"
      },
      "outputs": [
        {
          "output_type": "stream",
          "name": "stdout",
          "text": [
            "{'o', 'd', 'y', 'm', 'l', 'c', 'f', 'n', 'g', 'k', 'h', 'v', '\\n', 'b', 'x', 'r', 'a', 'p', 't', ' ', 'j', 'i', 'z', 'e', 'w', 'u', 's', 'q'}\n",
            "28\n"
          ]
        }
      ],
      "source": [
        "tokens = set()\n",
        "\n",
        "for x in text:\n",
        "    tokens.update(set(x))\n",
        "\n",
        "print(tokens)\n",
        "print(len(tokens))"
      ]
    },
    {
      "cell_type": "code",
      "source": [
        "PAD = '_'\n",
        "tokens.add(PAD)\n",
        "tokens = sorted(list(tokens))"
      ],
      "metadata": {
        "id": "4yU-JwjsWsds"
      },
      "execution_count": 15,
      "outputs": []
    },
    {
      "cell_type": "markdown",
      "metadata": {
        "id": "64MpZQLuMMjb"
      },
      "source": [
        "Create dictionary `token_to_idx = {<char>: <index>}` and dictionary `idx_to_token = {<index>: <char>}`"
      ]
    },
    {
      "cell_type": "code",
      "execution_count": 16,
      "metadata": {
        "id": "sX0OdjgRMMjb"
      },
      "outputs": [],
      "source": [
        "# dict <index>:<char>\n",
        "# Your great code here\n",
        "token_to_idx = {token: idx for idx, token in enumerate(tokens)}\n",
        "\n",
        "# dict <char>:<index>\n",
        "# Your great code here\n",
        "idx_to_token = {idx: token for idx, token in enumerate(tokens)}"
      ]
    },
    {
      "cell_type": "code",
      "source": [
        "assert np.all(x == idx_to_token[token_to_idx[x]] for x in token_to_idx)"
      ],
      "metadata": {
        "id": "rZ5HZAfxW5sV"
      },
      "execution_count": 17,
      "outputs": []
    },
    {
      "cell_type": "code",
      "source": [
        "def create_matrix(lines, max_len=None, pad=PAD, dtype='int32', batch_first=True):\n",
        "  max_len = max_len or max(map(len, lines))\n",
        "  matrix = np.zeros([len(lines), max_len], dtype) + token_to_idx[PAD]\n",
        "\n",
        "  for i, line in enumerate(lines):\n",
        "    line_indices = [token_to_idx[token] if token != PAD else token_to_idx[PAD] for token in line]\n",
        "    matrix[i, :len(line_indices)] = line_indices\n",
        "    if not batch_first:\n",
        "      matrix = np.transpose(matrix)\n",
        "\n",
        "  return matrix"
      ],
      "metadata": {
        "id": "zabCkCZAXfVM"
      },
      "execution_count": 18,
      "outputs": []
    },
    {
      "cell_type": "code",
      "source": [
        "create_matrix(text[1:5])"
      ],
      "metadata": {
        "colab": {
          "base_uri": "https://localhost:8080/"
        },
        "id": "4skSD7PNY92I",
        "outputId": "d102a24c-e37d-4f7e-cade-d5f55800f42c"
      },
      "execution_count": 19,
      "outputs": [
        {
          "output_type": "execute_result",
          "data": {
            "text/plain": [
              "array([[22, 10,  3, 22,  1, 22, 10,  7, 20,  7,  4, 27,  1,  4,  7,  3,\n",
              "        23, 22, 27, 21,  1, 20, 17, 21,  7,  1, 15, 11,  9, 10, 22,  1,\n",
              "        16,  7, 24,  7, 20,  1,  6, 11,  7,  0,  2,  2,  2],\n",
              "       [ 4, 23, 22,  1,  3, 21,  1, 22, 10,  7,  1, 20, 11, 18,  7, 20,\n",
              "         1, 21, 10, 17, 23, 14,  6,  1,  4, 27,  1, 22, 11, 15,  7,  1,\n",
              "         6,  7,  5,  7,  3, 21,  7,  0,  2,  2,  2,  2,  2],\n",
              "       [10, 11, 21,  1, 22,  7, 16,  6,  7, 20,  1, 10,  7, 11, 20,  1,\n",
              "        15, 11,  9, 10, 22,  1,  4,  7,  3, 20,  1, 10, 11, 21,  1, 15,\n",
              "         7, 15, 17, 20, 27,  0,  2,  2,  2,  2,  2,  2,  2],\n",
              "       [ 4, 23, 22,  1, 22, 10, 17, 23,  1,  5, 17, 16, 22, 20,  3,  5,\n",
              "        22,  7,  6,  1, 22, 17,  1, 22, 10, 11, 16,  7,  1, 17, 25, 16,\n",
              "         1,  4, 20, 11,  9, 10, 22,  1,  7, 27,  7, 21,  0]], dtype=int32)"
            ]
          },
          "metadata": {},
          "execution_count": 19
        }
      ]
    },
    {
      "cell_type": "code",
      "source": [
        "device = torch.device('cuda') if torch.cuda.is_available() else torch.device('cpu')\n",
        "device"
      ],
      "metadata": {
        "colab": {
          "base_uri": "https://localhost:8080/"
        },
        "id": "8t-5ondcZS-N",
        "outputId": "bd9dbf5d-e940-4b46-ab73-b0b4179da22e"
      },
      "execution_count": 20,
      "outputs": [
        {
          "output_type": "execute_result",
          "data": {
            "text/plain": [
              "device(type='cuda')"
            ]
          },
          "metadata": {},
          "execution_count": 20
        }
      ]
    },
    {
      "cell_type": "code",
      "source": [
        "MAX_PHRASE = 100\n",
        "num_tokens=len(tokens)\n",
        "\n",
        "text1 = \"\\n\".join(text)\n",
        "text11 = [text1[i:i+MAX_PHRASE] for i in range(len(text1) - MAX_PHRASE)]"
      ],
      "metadata": {
        "id": "f9cn3UCSadzl"
      },
      "execution_count": 21,
      "outputs": []
    },
    {
      "cell_type": "markdown",
      "metadata": {
        "id": "9-twVtUFMMjb"
      },
      "source": [
        "*Comment: in this task we have only 38 different tokens, so let's use one-hot encoding.*"
      ]
    },
    {
      "cell_type": "markdown",
      "metadata": {
        "id": "akY5TswoMMjb"
      },
      "source": [
        "### Building the model"
      ]
    },
    {
      "cell_type": "markdown",
      "metadata": {
        "id": "EU28W9wVMMjb"
      },
      "source": [
        "Now we want to build and train recurrent neural net which would be able to something similar to Shakespeare's poetry.\n",
        "\n",
        "Let's use vanilla RNN, similar to the one created during the lesson."
      ]
    },
    {
      "cell_type": "code",
      "source": [
        "class RNN(nn.Module):\n",
        "    def __init__(self, num_tokens=num_tokens, emb_size=64, rnn_num_units=128):\n",
        "        super(self.__class__, self).__init__()\n",
        "        self.rnn_num_units = rnn_num_units\n",
        "        self.emb = nn.Embedding(num_tokens, emb_size)\n",
        "        self.rnn = nn.RNN(emb_size, rnn_num_units, batch_first=True)\n",
        "        self.hid_to_logits = nn.Linear(rnn_num_units, num_tokens)\n",
        "\n",
        "    def forward(self, x, states):\n",
        "        h_seq, next_states = self.rnn(self.emb(x), states)\n",
        "        next_logits = self.hid_to_logits(h_seq)\n",
        "        return next_logits, next_states\n",
        "\n",
        "    def initial_state(self, batch_size):\n",
        "        return torch.zeros(1, batch_size, self.rnn_num_units, requires_grad=False)"
      ],
      "metadata": {
        "id": "lCWYIxcLwk9e"
      },
      "execution_count": 22,
      "outputs": []
    },
    {
      "cell_type": "markdown",
      "metadata": {
        "id": "QTBtIAVPMMjb"
      },
      "source": [
        "Plot the loss function (axis X: number of epochs, axis Y: loss function)."
      ]
    },
    {
      "cell_type": "markdown",
      "source": [],
      "metadata": {
        "id": "-QcedAw8kCeu"
      }
    },
    {
      "cell_type": "code",
      "source": [
        "device = torch.device(\"cuda\" if torch.cuda.is_available() else \"cpu\")\n",
        "\n",
        "model_rnn = RNN(num_tokens, emb_size=64, rnn_num_units=256)\n",
        "model_rnn = model_rnn.to(device)\n",
        "optimazer_rnn = torch.optim.Adam(model_rnn.parameters())\n",
        "loss_function = nn.CrossEntropyLoss(ignore_index=token_to_idx['_'])\n",
        "\n",
        "batch_size= 64\n",
        "num_epochs =50\n",
        "lr_scheduler=None\n",
        "progress_bar = tqdm(range(num_epochs), desc='Total')\n",
        "history = []\n",
        "states = model_rnn.initial_state(batch_size)\n",
        "for i in progress_bar:\n",
        "    epoch_loss = []\n",
        "    for bi in range(0, len(text11), batch_size):\n",
        "        batch = text11[bi:bi+batch_size]\n",
        "        if len(batch) != batch_size:\n",
        "            continue\n",
        "        batch_ix = create_matrix(batch)\n",
        "        batch_ix = torch.LongTensor(batch_ix).to(device)\n",
        "        states = states.to(device)\n",
        "        logits_seq, states = model_rnn(batch_ix, states)\n",
        "        states = states.detach()\n",
        "        predictions_logits = logits_seq[:-1]\n",
        "        actual_next_tokens = batch_ix[1:]\n",
        "        loss = loss_function(\n",
        "            predictions_logits.reshape((-1, num_tokens)),\n",
        "            actual_next_tokens.reshape(-1)\n",
        "        )\n",
        "        loss.backward()\n",
        "        optimazer_rnn.step()\n",
        "        optimazer_rnn.zero_grad()\n",
        "        epoch_loss.append(loss.item())\n",
        "    if lr_scheduler is not None:\n",
        "        lr_scheduler.step(loss)\n",
        "    history.append(np.mean(epoch_loss))\n",
        "    if (i + 1) % 5 == 0:\n",
        "        clear_output(True)\n",
        "        plt.plot(history, label='loss')\n",
        "        plt.legend()\n",
        "        plt.show()\n"
      ],
      "metadata": {
        "colab": {
          "base_uri": "https://localhost:8080/",
          "height": 447
        },
        "id": "Ajqb3dcKwmEz",
        "outputId": "db4e5a75-1961-4ec0-b1ed-99cccd2c9719"
      },
      "execution_count": 23,
      "outputs": [
        {
          "output_type": "display_data",
          "data": {
            "text/plain": [
              "<Figure size 640x480 with 1 Axes>"
            ],
            "image/png": "[encoded data removed]"
          },
          "metadata": {}
        },
        {
          "output_type": "stream",
          "name": "stderr",
          "text": [
            "Total: 100%|██████████| 50/50 [04:57<00:00,  5.94s/it]\n"
          ]
        }
      ]
    },
    {
      "cell_type": "code",
      "source": [
        "last_loss = history[-1]\n",
        "print(last_loss)"
      ],
      "metadata": {
        "id": "LgwJyuCggMZq"
      },
      "execution_count": null,
      "outputs": []
    },
    {
      "cell_type": "code",
      "source": [
        "\n",
        "def generate_text(model, seed_phrase='you', max_length=100, temperature=1.0):\n",
        "    seq = []\n",
        "    for token in seed_phrase:\n",
        "      seq.append(token_to_idx[token])\n",
        "    phrase = torch.LongTensor(seq)\n",
        "    seq = torch.LongTensor([seq]).to(device)\n",
        "\n",
        "    states = model.initial_state(1).to(device)\n",
        "    logits_seq, states = model(seq, states)\n",
        "    logits_next = logits_seq[-1]\n",
        "\n",
        "    softmax = nn.Softmax()\n",
        "\n",
        "    #start generating\n",
        "    for _ in range(max_length - len(seed_phrase)):\n",
        "\n",
        "        p_next = softmax(logits_next / temperature)[-1]\n",
        "        # print('p_next.shape =', p_next.shape)\n",
        "\n",
        "        next_token = np.random.choice(len(tokens), p=p_next.cpu().detach().numpy())\n",
        "        phrase = torch.cat([phrase, torch.tensor([next_token])])\n",
        "        next_token = [[next_token]]\n",
        "        next_token = torch.LongTensor(next_token)\n",
        "        next_token = next_token.to(device)\n",
        "\n",
        "        logits_seq, states = model(next_token, states)  # <-- here we call your one-step code\n",
        "        logits_next = logits_seq[-1]\n",
        "\n",
        "    return ''.join([tokens[ix] for ix in phrase]) #.data.numpy()[0]])"
      ],
      "metadata": {
        "id": "dLn-kNlJDHmP"
      },
      "execution_count": 55,
      "outputs": []
    },
    {
      "cell_type": "code",
      "execution_count": null,
      "metadata": {
        "id": "f_K37DneMMjc",
        "outputId": "a5ae3f42-6883-43fb-aea6-f815947605bc"
      },
      "outputs": [
        {
          "name": "stdout",
          "output_type": "stream",
          "text": [
            "hide my will in thine?\n",
            "  shall will in of the simend that in my sime the seave the seave the sorll the soren the sange the seall seares and and the fart the wirl the seall the songh whing that thou hall will thoun the soond beare the with that sare the simest me the fart the wirl the songre the with thy seart so for shat so for do the dost the sing the sing the sing the soond canding the sack and the farling the wirl of sore sich and that with the seare the seall so fort the with the past the wirl the simen the wirl the sores the sare\n"
          ]
        }
      ],
      "source": [
        "# An example of generated text.\n",
        "# print(generate_text(length=500, temperature=0.2))"
      ]
    },
    {
      "cell_type": "code",
      "source": [
        "for temp in [0.1, 0.2, 0.5, 1.0, 2.0]:\n",
        "    print(f'temperature = {temp}, text:')\n",
        "    print(generate_text(model_rnn, seed_phrase='you', max_length=50, temperature=temp) + '\\n')"
      ],
      "metadata": {
        "colab": {
          "base_uri": "https://localhost:8080/"
        },
        "id": "KjlQzGV4T6Tk",
        "outputId": "7b21d493-6dfe-4d7f-9d2f-08dc5f3b7dae"
      },
      "execution_count": 56,
      "outputs": [
        {
          "output_type": "stream",
          "name": "stdout",
          "text": [
            "temperature = 0.1, text:\n",
            "your can strange of thee a believe heart thee a be\n",
            "\n",
            "temperature = 0.2, text:\n",
            "you bright thee mine eye but sweet fresh her bring\n",
            "\n",
            "temperature = 0.5, text:\n",
            "your be faults and fall the beauty hath thy fairis\n",
            "\n",
            "temperature = 1.0, text:\n",
            "your outhing my love friend faults conscate\n",
            "\n",
            "if th\n",
            "\n",
            "temperature = 2.0, text:\n",
            "your wouldd\n",
            "aniwlargy true migess\n",
            "byathoh powain b\n",
            "\n"
          ]
        }
      ]
    },
    {
      "cell_type": "markdown",
      "metadata": {
        "id": "dx6y4dhiMMjc"
      },
      "source": [
        "### More poetic model\n",
        "\n",
        "Let's use LSTM instead of vanilla RNN and compare the results."
      ]
    },
    {
      "cell_type": "markdown",
      "metadata": {
        "id": "6uyqCwUUMMjc"
      },
      "source": [
        "Plot the loss function of the number of epochs. Does the final loss become better?"
      ]
    },
    {
      "cell_type": "code",
      "execution_count": 32,
      "metadata": {
        "collapsed": true,
        "jupyter": {
          "outputs_hidden": true
        },
        "id": "_PQq46hqMMjc"
      },
      "outputs": [],
      "source": [
        "# Your beautiful code here\n",
        "class LSTM(nn.Module):\n",
        "    def __init__(self, num_tokens=num_tokens, emb_size=64, rnn_num_units=128):\n",
        "        super(self.__class__, self).__init__()\n",
        "        self.rnn_num_units = rnn_num_units\n",
        "        self.emb = nn.Embedding(num_tokens, emb_size)\n",
        "        self.rnn = nn.LSTM(emb_size, rnn_num_units, batch_first=True)\n",
        "        self.hid_to_logits = nn.Linear(rnn_num_units, num_tokens)\n",
        "\n",
        "    def forward(self, x, state_seq=None):\n",
        "        if state_seq is None:\n",
        "            state_seq = self.initial_state()\n",
        "        h_seq, state_seq = self.rnn(self.emb(x), state_seq)\n",
        "        next_logits = self.hid_to_logits(h_seq)\n",
        "\n",
        "        return next_logits, state_seq\n",
        "\n",
        "    def initial_state(self, batch_size):\n",
        "        h = c = torch.zeros(1, batch_size, self.rnn_num_units, requires_grad=True)\n",
        "        init_state = (h, c)\n",
        "        return init_state"
      ]
    },
    {
      "cell_type": "markdown",
      "metadata": {
        "id": "L6OkrFoSMMjc"
      },
      "source": [
        "Generate text using the trained net with different `temperature` parameter: `[0.1, 0.2, 0.5, 1.0, 2.0]`.\n",
        "\n",
        "Evaluate the results visually, try to interpret them."
      ]
    },
    {
      "cell_type": "code",
      "source": [
        "model_lstm = LSTM(emb_size=64, rnn_num_units=256)\n",
        "model_lstm = model_lstm.to(device)\n",
        "\n",
        "optimizer_lstm = torch.optim.Adam(model_lstm.parameters(), lr=8e-3)\n",
        "lr_sсheduler = torch.optim.lr_scheduler.StepLR(optimizer_lstm, step_size=100, gamma=0.7)\n",
        "loss_function = nn.CrossEntropyLoss(ignore_index=token_to_idx['_'])\n",
        "\n",
        "history = []\n",
        "batch_size= 64\n",
        "#num_epochs =50\n",
        "\n",
        "progress_bar = tqdm(range(100), desc='Total')\n",
        "h, c = model_lstm.initial_state(batch_size)\n",
        "\n",
        "\n",
        "for i in progress_bar:\n",
        "  epoch_loss = []\n",
        "\n",
        "  for bi in range(0, len(text11), batch_size):\n",
        "    batch = text11[bi:bi + batch_size]\n",
        "    if len(batch) != batch_size:\n",
        "      continue\n",
        "\n",
        "    process_batch(batch)\n",
        "    batch_ix = create_matrix(batch)\n",
        "    batch_ix = torch.LongTensor(batch_ix)\n",
        "    batch_ix = batch_ix.to(device)\n",
        "    h = h.to(device)\n",
        "    c = c.to(device)\n",
        "\n",
        "    logits_seq, (h, c) = model_lstm(batch_ix, (h, c))\n",
        "    h = h.detach()\n",
        "    c = c.detach()\n",
        "\n",
        "    predictions_logits = logits_seq[:-1]\n",
        "    actual_next_tokens = batch_ix[1:]\n",
        "\n",
        "    loss = loss_function(predictions_logits.reshape((-1, num_tokens)), actual_next_tokens.reshape(-1))\n",
        "    loss.backward()\n",
        "    optimizer_lstm.step()\n",
        "    optimizer_lstm.zero_grad()\n",
        "    epoch_loss.append(loss.item())\n",
        "\n",
        "  if lr_scheduler is not None:\n",
        "        lr_scheduler.step(loss)\n",
        "  history.append(np.mean(epoch_loss))\n",
        "  if (i + 1) % 5 == 0:\n",
        "        clear_output(True)\n",
        "        plt.plot(history, label='loss')\n",
        "        plt.legend()\n",
        "        plt.show()\n"
      ],
      "metadata": {
        "colab": {
          "base_uri": "https://localhost:8080/",
          "height": 448
        },
        "id": "Bm20TCiVfDYL",
        "outputId": "e2bc8e8b-5f37-4bf2-bddb-90c8460966b0"
      },
      "execution_count": 52,
      "outputs": [
        {
          "output_type": "display_data",
          "data": {
            "text/plain": [
              "<Figure size 640x480 with 1 Axes>"
            ],
            "image/png": "[encoded data removed]"
          },
          "metadata": {}
        },
        {
          "output_type": "stream",
          "name": "stderr",
          "text": [
            "Total: 100%|██████████| 100/100 [21:13<00:00, 12.73s/it]\n"
          ]
        }
      ]
    },
    {
      "cell_type": "code",
      "source": [
        "last_loss = history[-1]\n",
        "print(last_loss)"
      ],
      "metadata": {
        "id": "HuG0RdVSgTaz"
      },
      "execution_count": null,
      "outputs": []
    },
    {
      "cell_type": "code",
      "source": [
        "\n",
        "def generate_text_2(model, seed_phrase='hello, ', max_length=150, temperature=1.0):\n",
        "    seq = []\n",
        "    for token in seed_phrase:\n",
        "      seq.append(token_to_idx[token])\n",
        "    phrase = torch.LongTensor(seq)\n",
        "    seq = torch.LongTensor([seq]).to(device)\n",
        "\n",
        "    h, c = model.initial_state(1)\n",
        "    h, c = h.to(device), c.to(device)\n",
        "    logits_seq, (h, c) = model(seq, (h, c))\n",
        "    logits_next = logits_seq[-1]\n",
        "\n",
        "    softmax = nn.Softmax()\n",
        "\n",
        "    for _ in range(max_length - len(seed_phrase)):\n",
        "\n",
        "        p_next = softmax(logits_next / temperature)[-1]\n",
        "\n",
        "        next_token = np.random.choice(len(tokens), p=p_next.cpu().detach().numpy())\n",
        "        phrase = torch.cat([phrase, torch.tensor([next_token])])\n",
        "        next_token = [[next_token]]\n",
        "        next_token = torch.LongTensor(next_token)\n",
        "        next_token = next_token.to(device)\n",
        "\n",
        "        logits_seq, (h, c) = model(next_token, (h, c))\n",
        "        logits_next = logits_seq[-1]\n",
        "\n",
        "    return ''.join([tokens[ix] for ix in phrase])"
      ],
      "metadata": {
        "id": "IQySY3MbV_y_"
      },
      "execution_count": 53,
      "outputs": []
    },
    {
      "cell_type": "code",
      "source": [
        "for temp in [0.1, 0.2, 0.5, 1.0, 2.0]:\n",
        "    print(f'temperature = {temp}, text:', generate_text_2(model_lstm, seed_phrase='love ', max_length=70, temperature= temp) + '\\n\\n')"
      ],
      "metadata": {
        "colab": {
          "base_uri": "https://localhost:8080/"
        },
        "id": "QErxcNrOdYOd",
        "outputId": "d57fc78d-0e2f-447d-9f79-6d89fbf8efb3"
      },
      "execution_count": 54,
      "outputs": [
        {
          "output_type": "stream",
          "name": "stderr",
          "text": [
            "/usr/local/lib/python3.10/dist-packages/torch/nn/modules/module.py:1518: UserWarning: Implicit dimension choice for softmax has been deprecated. Change the call to include dim=X as an argument.\n",
            "  return self._call_impl(*args, **kwargs)\n"
          ]
        },
        {
          "output_type": "stream",
          "name": "stdout",
          "text": [
            "temperature = 0.1, text: love the be the breath the be the see the lies\n",
            "\n",
            "and the be the but the\n",
            "\n",
            "\n",
            "temperature = 0.2, text: love the breath a self the strange\n",
            "\n",
            "and the be the for thee\n",
            "\n",
            "and the b\n",
            "\n",
            "\n",
            "temperature = 0.5, text: love i by my boit fair tongue stand\n",
            "\n",
            "ah the have may and afiticuat i b\n",
            "\n",
            "\n",
            "temperature = 1.0, text: love my fall deatht tacts dwakenon\n",
            "\n",
            "sinces of jumpstrike head thy made\n",
            "\n",
            "\n",
            "temperature = 2.0, text: love hapf amplyinslileuiudds brand\n",
            "touthtehs torrposedusy make\n",
            "\n",
            "a eest\n",
            "\n",
            "\n"
          ]
        }
      ]
    },
    {
      "cell_type": "markdown",
      "metadata": {
        "id": "MPnN41yUMMjc"
      },
      "source": [
        "### Saving and loading models"
      ]
    },
    {
      "cell_type": "markdown",
      "metadata": {
        "id": "1krhwX6MMMjc"
      },
      "source": [
        "Save the model to the disk, then load it and generate text. Examples are available [here](https://pytorch.org/tutorials/beginner/saving_loading_models.html])."
      ]
    },
    {
      "cell_type": "code",
      "execution_count": 61,
      "metadata": {
        "collapsed": true,
        "jupyter": {
          "outputs_hidden": true
        },
        "id": "KU0z0FWdMMjc",
        "colab": {
          "base_uri": "https://localhost:8080/"
        },
        "outputId": "b8d85fff-d0cd-4ff9-e9f1-2e3553575674"
      },
      "outputs": [
        {
          "output_type": "stream",
          "name": "stdout",
          "text": [
            "love the bright the be the breath for thee\n",
            "\n",
            "and the do i not be the see the do i not be the breath the be made the by i but the for thee\n",
            "\n",
            "this i sweet the bright\n",
            "\n",
            "and the be the but the be the bright \n"
          ]
        }
      ],
      "source": [
        "# Saving and loading code here\n",
        "\n",
        "path = 'saved.pt'\n",
        "\n",
        "torch.save(model_lstm.state_dict(), path)\n",
        "\n",
        "new = LSTM(emb_size=64, rnn_num_units=256)\n",
        "new.load_state_dict(torch.load(path))\n",
        "new = new.to(device)\n",
        "\n",
        "\n",
        "print(generate_text_2(new, seed_phrase='love', max_length=200, temperature=0.2))"
      ]
    },
    {
      "cell_type": "markdown",
      "source": [
        "Выводы: Модель LSTM показала себя лучше, на мой взгляд.\n",
        "Для RNN:\n",
        "При temperature = 0.1 генерируемый текст имеет повторяющиеся фразы и мало разнообразия. Это может быть связано с тем, что при очень низкой температуре модель выбирает наиболее вероятные следующие символы, что приводит к повторениям.\n",
        "\n",
        "При temperature = 0.2 текст становится немного более разнообразным, но всё ещё сохраняет некоторую структуру и смысл. Например, \"you bright thee mine eye but sweet fresh her bring\".\n",
        "\n",
        "При temperature = 0.5 генерируемый текст становится ещё более разнообразным и содержит более осмысленные фразы. Например, \"your be faults and fall the beauty hath thy fairis\".\n",
        "\n",
        "При temperature = 1.0 текст становится ещё более разнообразным и более свободным от ограничений. Однако, это также может привести к более нелогичным или несвязанным фразам. Например, \"your outhing my love friend faults conscate if th\".\n",
        "\n",
        "При temperature = 2.0 генерируемый текст становится очень разнообразным, но также может быть менее связным и менее осмысленным. Например, \"your wouldd aniwlargy true migess byathoh powain b\".\n",
        "\n",
        "Для LSTM аналогично.\n",
        "\n",
        "В обоих моделях наблюдается тренд, что с увеличением temperature генерируемый текст становится более разнообразным и менее связанным.\n",
        "\n",
        "Итоговый текст получися читаемым и в какой-то мере даже похож  на  осмысленный стих\n"
      ],
      "metadata": {
        "id": "Jt46lnyQitph"
      }
    },
    {
      "cell_type": "markdown",
      "metadata": {
        "id": "0LXgqKeBMMjc"
      },
      "source": [
        "### References\n",
        "1. <a href='http://karpathy.github.io/2015/05/21/rnn-effectiveness/'> Andrew Karpathy blog post about RNN. </a>\n",
        "There are several examples of genration: Shakespeare texts, Latex formulas, Linux Sourse Code and children names.\n",
        "2. <a href='https://github.com/karpathy/char-rnn'> Repo with char-rnn code </a>\n",
        "3. Cool repo with PyTorch examples: [link](https://github.com/spro/practical-pytorch`)"
      ]
    }
  ],
  "metadata": {
    "anaconda-cloud": {},
    "kernelspec": {
      "display_name": "Python 3",
      "name": "python3"
    },
    "language_info": {
      "codemirror_mode": {
        "name": "ipython",
        "version": 3
      },
      "file_extension": ".py",
      "mimetype": "text/x-python",
      "name": "python",
      "nbconvert_exporter": "python",
      "pygments_lexer": "ipython3",
      "version": "3.11.4"
    },
    "colab": {
      "provenance": [],
      "gpuType": "T4",
      "include_colab_link": true
    },
    "accelerator": "GPU"
  },
  "nbformat": 4,
  "nbformat_minor": 0
}