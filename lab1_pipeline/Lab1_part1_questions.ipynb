{
 "cells": [
  {
   "cell_type": "markdown",
   "metadata": {},
   "source": [
    "*Credits: materials from this notebook belong to YSDA [Practical DL](https://github.com/yandexdataschool/Practical_DL) course. Special thanks for making them available online.*"
   ]
  },
  {
   "cell_type": "markdown",
   "metadata": {},
   "source": [
    "# Lab assignment №1, part 1\n",
    "\n",
    "This lab assignment consists of several parts. You are supposed to make some transformations, train some models, estimate the quality of the models and explain your results.\n",
    "\n",
    "Several comments:\n",
    "* Don't hesitate to ask questions, it's a good practice.\n",
    "* No private/public sharing, please. The copied assignments will be graded with 0 points.\n",
    "* Blocks of this lab will be graded separately."
   ]
  },
  {
   "cell_type": "markdown",
   "metadata": {},
   "source": [
    "## 1. Matrix differentiation"
   ]
  },
  {
   "cell_type": "markdown",
   "metadata": {},
   "source": [
    "Since it easy to google every task please please please try to undestand what's going on. The \"just answer\" thing will be not counted, make sure to present derivation of your solution. It is absolutely OK if you found an answer on web then just exercise in $\\LaTeX$ copying it into here."
   ]
  },
  {
   "cell_type": "markdown",
   "metadata": {},
   "source": [
    "Useful links: \n",
    "[1](http://www.machinelearning.ru/wiki/images/2/2a/Matrix-Gauss.pdf)\n",
    "[2](http://www.atmos.washington.edu/~dennis/MatrixCalculus.pdf)"
   ]
  },
  {
   "cell_type": "markdown",
   "metadata": {},
   "source": [
    "## ex. 1"
   ]
  },
  {
   "cell_type": "markdown",
   "metadata": {},
   "source": [
    "$$  \n",
    "y = x^Tx,  \\quad x \\in \\mathbb{R}^N \n",
    "$$"
   ]
  },
  {
   "cell_type": "markdown",
   "metadata": {},
   "source": [
    "$$\n",
    "y=x^Tx=(x_1,....x_n)\\left( \\begin{array}{c} x_{1}\\\\ \\vdots \\\\ x_{n}\\end{array}\\right)= \\sum\\limits_{i=1}^n x_i^2 \n",
    "$$ \n",
    "$$\n",
    "\\frac{dy}{dx_i} =\\frac{d\\sum\\limits_{i=1}^n x_i^2}{dx_i}=2x_i\n",
    "$$\n",
    "$$\n",
    "\\frac{dy}{dx}=(2x_1,...,2x_n)=2x^T\n",
    "$$"
   ]
  },
  {
   "cell_type": "code",
   "execution_count": null,
   "metadata": {},
   "outputs": [],
   "source": []
  },
  {
   "cell_type": "markdown",
   "metadata": {},
   "source": [
    "## ex. 2"
   ]
  },
  {
   "cell_type": "markdown",
   "metadata": {},
   "source": [
    "$$ y = tr(AB) \\quad A,B \\in \\mathbb{R}^{N \\times N} $$ "
   ]
  },
  {
   "cell_type": "markdown",
   "metadata": {},
   "source": [
    "$$ y=tr(AB)= tr \\left[ \\begin{array}{c} \\leftarrow  \\overrightarrow{a_1}\\rightarrow\\\\  \\vdots \\\\ \\leftarrow \\overrightarrow{a_n}\\rightarrow\\end{array}\\right] \\left[ \\begin{array}{cc}\n",
    "\\uparrow &  & \\uparrow\\\\\n",
    "\\overrightarrow{b_1} & \\ldots & \\overrightarrow{b_n}\\\\\n",
    "\\downarrow &  & \\downarrow\n",
    "\\end{array} \\right] = tr \\left[ \\begin{array}{cccc}\n",
    "\\overrightarrow{a_1^T}\\overrightarrow{b_1} & \\overrightarrow{a_1^T}\\overrightarrow{b_2} & \\ldots & \\overrightarrow{a_1^T}\\overrightarrow{b_n}\\\\\n",
    "\\overrightarrow{a_2^T}\\overrightarrow{b_1} & \\overrightarrow{a_2^T}\\overrightarrow{b_2} & \\ldots & \\overrightarrow{a_2^T}\\overrightarrow{b_n}\\\\\n",
    "\\vdots & \\vdots & \\ddots & \\vdots\\\\\n",
    "\\overrightarrow{a_n^T}\\overrightarrow{b_1} & \\overrightarrow{a_n^T}\\overrightarrow{b_2} & \\ldots & \\overrightarrow{a_n^T}\\overrightarrow{b_n}\n",
    "\\end{array}\\right] =\\sum\\limits_{i=1}^m a_{1i} b_{i1} +\\sum\\limits_{i=1}^m a_{2i} b_{i2}+...+ \\sum\\limits_{i=1}^m a_{ni} b_{in}\n",
    "$$\n",
    "$$\n",
    "\\frac{dy}{da_{ij}}= b_{ij}\n",
    "$$\n",
    "$$\n",
    "\\frac{dy}{dA}=B^T \n",
    "$$"
   ]
  },
  {
   "cell_type": "code",
   "execution_count": null,
   "metadata": {},
   "outputs": [],
   "source": []
  },
  {
   "cell_type": "markdown",
   "metadata": {},
   "source": [
    "## ex. 3"
   ]
  },
  {
   "cell_type": "markdown",
   "metadata": {},
   "source": [
    "$$  \n",
    "y = x^TAc , \\quad A\\in \\mathbb{R}^{N \\times N}, x\\in \\mathbb{R}^{N}, c\\in \\mathbb{R}^{N} \n",
    "$$"
   ]
  },
  {
   "cell_type": "markdown",
   "metadata": {},
   "source": [
    "$$\n",
    "b=Ac=\\left( \\begin{array}{cccc} {a_{11}} & {a_{12}} & \\ldots & {a_{1n}}\\\\\n",
    "{a_{21}} & {a_{22}} & \\ldots & {a_{2n}}\\\\\n",
    "\\vdots & \\vdots & \\ddots & \\vdots\\\\\n",
    "{a_{n1}} & {a_{n2}} & \\ldots & {a_{nn}}\n",
    "\\end{array}\\right)\\left( \\begin{array}{c} c_{1}\\\\ c_{2}\\\\ \\vdots \\\\ c_{n}\\end{array}\\right)=\\left( \\begin{array}{c} a_{11}c_{1}+a_{12}c_{2}+ ... +a_{1n}c_{n}\\\\ a_{21}c_{1}+a_{22}c_{2}+ ... +a_{2n}c_{n}\\\\ \\vdots \\\\ a_ {n1}c_{n1} + a_{n2}c_{2}+ ... +a_{nn}c_{n}\\end{array}\\right)=\\left( \\begin{array}{c} b_{1}\\\\ b_{2}\\\\ \\vdots \\\\ b_{n}\\end{array}\\right)\n",
    "$$\n",
    "$$\n",
    "y=x^Tb=(x_1,....x_n)\\left( \\begin{array}{c} b_{1}\\\\ \\vdots \\\\ b_{n}\\end{array}\\right)=\\sum\\limits_{i=1}^n x_{i}b_{i} \n",
    "$$\n",
    "\n",
    "$$\n",
    "\\frac{dy}{dx_i} =\\frac{d\\sum\\limits_{i=1}^n x_{i}b_{i}}{dx_i}=b_i\n",
    "$$\n",
    "$$\n",
    "\\frac{dy}{dx}=b=Ac\n",
    "$$\n",
    "\n",
    "\n",
    "$$\n",
    "\\frac{dy}{dx} =\\frac{d(x^TAc)}{dx}= Ac\n",
    "$$\n"
   ]
  },
  {
   "cell_type": "markdown",
   "metadata": {},
   "source": [
    "$$\n",
    "\\frac{dy}{dA} =xc^T\n",
    "$$ "
   ]
  },
  {
   "cell_type": "markdown",
   "metadata": {},
   "source": [
    "Hint for the latter (one of the ways): use *ex. 2* result and the fact \n",
    "$$\n",
    "tr(ABC) = tr (CAB)\n",
    "$$"
   ]
  },
  {
   "cell_type": "code",
   "execution_count": null,
   "metadata": {},
   "outputs": [],
   "source": []
  },
  {
   "cell_type": "markdown",
   "metadata": {},
   "source": [
    "## ex. 4"
   ]
  },
  {
   "cell_type": "markdown",
   "metadata": {},
   "source": [
    "Classic matrix factorization example. Given matrix $X$ you need to find $A$, $S$ to approximate $X$. This can be done by simple gradient descent iteratively alternating $A$ and $S$ updates.\n",
    "$$\n",
    "J = || X - AS ||_F^2  , \\quad A\\in \\mathbb{R}^{N \\times R} , \\quad S\\in \\mathbb{R}^{R \\times M}\n",
    "$$\n",
    "$$\n",
    "\\frac{dJ}{dS} = ? \n",
    "$$\n",
    "\n",
    "$$\n",
    "J=tr(XX^T-ASX^T-XS^TA^T+ASS^TA^T)\n",
    "$$\n",
    "\n",
    "$$\n",
    "\\frac{dJ}{dS} = \\frac{d(tr(XX^T - ASX^T - XS^TA^T + ASS^TA^T))}{dS}=\\frac{d(tr(XX^T))}{dS}-\\frac{d(tr(ASX^T))}{dS}-\\frac{d(tr(XS^TA^T))}{dS}+\\frac{d(tr(ASS^TA^T))}{dS}\n",
    "$$\n",
    "\n",
    "$$\n",
    "\\frac{d(tr(XX^T))}{dS}=0\n",
    "$$\n",
    "\n",
    "$$\n",
    "tr(ASX^T)=tr(XS^TA^T) --> \\frac{d(tr(AS^T))}{dS}=\\frac{d(tr(XS^TA^T))}{dS}=A^TX\n",
    "$$\n",
    "\n",
    "$$\n",
    "(tr(ASS^TA^T))=\\sum_i\\sum_j\\sum_k\\sum_l s_{ij}s_{kj}a_{lk}a_{ki}=\\sum\\limits_{i=1}^n\\sum\\limits_{j=1}^m (\\sum\\limits_{k=1}^r a_{ik}s_{ij})^2 --> \\frac{d(tr(ASS^TA^T))}{dS}=2A^TAS\n",
    "$$\n",
    "\n",
    "\n",
    "$$ \\frac{dJ}{dS} = 0-2A^TX + 2A^TAS = 2A^T(AS - X) $$\n",
    "\n",
    "You may use one of the following approaches:"
   ]
  },
  {
   "cell_type": "markdown",
   "metadata": {},
   "source": [
    "#### First approach\n",
    "Using ex.2 and the fact:\n",
    "$$\n",
    "|| X ||_F^2 = tr(XX^T) \n",
    "$$ \n",
    "it is easy to derive gradients (you can find it in one of the refs). "
   ]
  },
  {
   "cell_type": "markdown",
   "metadata": {},
   "source": [
    "#### Second approach\n",
    "You can use *slightly different techniques* if they suits you. Take a look at this derivation:\n",
    "<img src=\"grad.png\">\n",
    "(excerpt from [Handbook of blind source separation, Jutten, page 517](https://books.google.ru/books?id=PTbj03bYH6kC&printsec=frontcover&dq=Handbook+of+Blind+Source+Separation&hl=en&sa=X&ved=0ahUKEwi-q_apiJDLAhULvXIKHVXJDWcQ6AEIHDAA#v=onepage&q=Handbook%20of%20Blind%20Source%20Separation&f=false), open for better picture)."
   ]
  },
  {
   "cell_type": "markdown",
   "metadata": {},
   "source": [
    "#### Third approach\n",
    "And finally we can use chain rule! \n",
    "let $ F = AS $ \n",
    "\n",
    "**Find**\n",
    "$$\n",
    "\\frac{dJ}{dF} =  \n",
    "$$ \n",
    "and \n",
    "$$\n",
    "\\frac{dF}{dS} =  \n",
    "$$ \n",
    "(the shape should be $ NM \\times RM )$.\n",
    "\n",
    "Now it is easy do get desired gradients:\n",
    "$$\n",
    "\\frac{dJ}{dS} =  \n",
    "$$ "
   ]
  },
  {
   "cell_type": "markdown",
   "metadata": {
    "collapsed": true,
    "jupyter": {
     "outputs_hidden": true
    }
   },
   "source": [
    "## 2. kNN questions\n",
    "Here come the questions from the assignment0_01. Please, refer to the assignment0_01 to get the context of the questions."
   ]
  },
  {
   "cell_type": "markdown",
   "metadata": {
    "jp-MarkdownHeadingCollapsed": true
   },
   "source": [
    "### Question 1\n",
    "\n",
    "Notice the structured patterns in the distance matrix, where some rows or columns are visible brighter. (Note that with the default color scheme black indicates low distances while white indicates high distances.)\n",
    "\n",
    "- What in the data is the cause behind the distinctly bright rows?\n",
    "- What causes the columns?\n",
    "\n",
    "*Your Answer:* В контексте K-ближайших соседей (KNN) матрица расстояний представляет собой попарные расстояния между точками данных в наборе данных. Более яркие строки или столбцы в матрице расстояний указывают на большие расстояния по сравнению с более темными. Это можно объяснить определенными характеристиками или закономерностями в данных.\n",
    "\n",
    "Отчетливо яркие строки в матрице расстояний указывают на то, что соответствующие точки данных имеют большее отличие или расстояние от других точек в наборе данных. Это может указывать на наличие выбросов или точек данных, которые значительно отличаются от большинства данных. Эти яркие строки могут представлять собой уникальные точки данных или иметь отличительные особенности, которые обычно не наблюдаются в наборе данных.\n",
    "\n",
    "С другой стороны, яркие столбцы в матрице расстояний указывают на то, что конкретная точка данных значительно отличается от других точек по расстоянию до них. Это может означать, что точка данных имеет уникальные атрибуты или характеристики, которые выделяют ее среди остального набора данных. Это может указывать на то, что точка данных имеет функции, которые обычно не являются общими для других точек в наборе данных.\n",
    "\n"
   ]
  },
  {
   "cell_type": "markdown",
   "metadata": {},
   "source": [
    "### Question 2\n",
    "\n",
    "We can also use other distance metrics such as L1 distance.\n",
    "For pixel values $p_{ij}^{(k)}$ at location $(i,j)$ of some image $I_k$, \n",
    "\n",
    "the mean $\\mu$ across all pixels over all images is $$\\mu=\\frac{1}{nhw}\\sum_{k=1}^n\\sum_{i=1}^{h}\\sum_{j=1}^{w}p_{ij}^{(k)}$$\n",
    "And the pixel-wise mean $\\mu_{ij}$ across all images is \n",
    "$$\\mu_{ij}=\\frac{1}{n}\\sum_{k=1}^np_{ij}^{(k)}.$$\n",
    "The general standard deviation $\\sigma$ and pixel-wise standard deviation $\\sigma_{ij}$ is defined similarly.\n",
    "\n",
    "Which of the following preprocessing steps will not change the performance of a Nearest Neighbor classifier that uses L1 distance? Select all that apply.\n",
    "1. Subtracting the mean $\\mu$ ($\\tilde{p}_{ij}^{(k)}=p_{ij}^{(k)}-\\mu$.)\n",
    "2. Subtracting the per pixel mean $\\mu_{ij}$  ($\\tilde{p}_{ij}^{(k)}=p_{ij}^{(k)}-\\mu_{ij}$.)\n",
    "3. Subtracting the mean $\\mu$ and dividing by the standard deviation $\\sigma$.\n",
    "4. Subtracting the pixel-wise mean $\\mu_{ij}$ and dividing by the pixel-wise standard deviation $\\sigma_{ij}$.\n",
    "5. Rotating the coordinate axes of the data.\n",
    "\n",
    "*Your Answer:*1,2,3\n",
    "\n",
    "\n",
    "*Your Explanation:*\n",
    "1.На этом этапе предварительной обработки значения  будут изменены путем вычитания среднего значения по всем значениям всех изображений. В результате это не повлияет на расстояние L1 между изображениями.\n",
    "\n",
    "2. На этом этапе предварительной обработки вычитается среднее значение для каждого пикселя во всех изображениях. Относительные расстояния  остаются прежними. Таким образом, расстояние L1  не пострадает. \n",
    "\n",
    "3. На этом этапе стандартизируются значения пикселей путем вычитания среднего значения и деления на стандартное отклонение. Он масштабирует значения пикселей, но масштабирование не влияет на расстояние L1. Таким образом, этот шаг не изменит производительность классификатора ближайших соседей с использованием расстояния L1.\n",
    "\n",
    "4. Этот этап предварительной обработки стандартизирует значения пикселей путем вычитания попиксельного среднего значения и деления на попиксельное стандартное отклонение. В этом случае, в отличие от предыдущего пункта, мы маштабируем все по-разному.Поэтоу этот пункт будет менять производительность.\n",
    "\n",
    "5. Вращение осей координат данных изменит соотношение между значениями пикселей. В результате это повлияет на расстояние L1 между изображениями, и производительность классификатора ближайших соседей может измениться.\n"
   ]
  },
  {
   "cell_type": "markdown",
   "metadata": {},
   "source": [
    "## Question 3\n",
    "\n",
    "Which of the following statements about $k$-Nearest Neighbor ($k$-NN) are true in a classification setting, and for all $k$? Select all that apply.\n",
    "1. The decision boundary (hyperplane between classes in feature space) of the k-NN classifier is linear.\n",
    "2. The training error of a 1-NN will always be lower than that of 5-NN.\n",
    "3. The test error of a 1-NN will always be lower than that of a 5-NN.\n",
    "4. The time needed to classify a test example with the k-NN classifier grows with the size of the training set.\n",
    "5. None of the above.\n",
    "\n",
    "*Your Answer:*2,4\n",
    "\n",
    "\n",
    "*Your Explanation:*\n",
    "1.Это утверждение неверно. Граница решения классификатора k-NN не обязательно линейна. Она может быть нелинейна и принимать любую форму в зависимости от распределения данных.\n",
    "\n",
    "2.Это утверждение верно. Поскольку классификатор 1-NN просто присваивает метку ближайшему соседу в обучающем наборе, он всегда будет идеально классифицировать обучающие примеры, что приводит к ошибке обучения, равной 0. Классификатор 5-NN, напротив, учитывает метки пяти ближайших соседей, что может внести некоторые ошибки в обучающий набор.\n",
    "\n",
    "3.Это утверждение неверно. Ошибка тестирования классификатора 1-NN не всегда может быть ниже, чем у классификатора 5-NN. В то время как классификатор 1-NN потенциально может переопределить обучающие данные и привести к более высокой ошибке теста, классификатор 5-NN может обеспечить лучшее обобщение, рассматривая большее количество соседей.\n",
    "\n",
    "4.Это утверждение верно. По мере увеличения размера обучающего набора классификатору k-NN необходимо перебирать большее количество обучающих примеров, чтобы найти ближайших соседей. Это может привести к увеличению времени вычислений для классификации тестового примера.\n"
   ]
  },
  {
   "cell_type": "code",
   "execution_count": null,
   "metadata": {},
   "outputs": [],
   "source": []
  }
 ],
 "metadata": {
  "kernelspec": {
   "display_name": "Python 3 (ipykernel)",
   "language": "python",
   "name": "python3"
  },
  "language_info": {
   "codemirror_mode": {
    "name": "ipython",
    "version": 3
   },
   "file_extension": ".py",
   "mimetype": "text/x-python",
   "name": "python",
   "nbconvert_exporter": "python",
   "pygments_lexer": "ipython3",
   "version": "3.11.4"
  }
 },
 "nbformat": 4,
 "nbformat_minor": 4
}
